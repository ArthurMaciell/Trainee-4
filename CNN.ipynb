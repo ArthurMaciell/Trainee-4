{
 "cells": [
  {
   "cell_type": "code",
   "execution_count": 2,
   "metadata": {},
   "outputs": [],
   "source": [
    "from tensorflow.keras.preprocessing.image import ImageDataGenerator"
   ]
  },
  {
   "cell_type": "code",
   "execution_count": 6,
   "metadata": {},
   "outputs": [],
   "source": [
    "def preparar_diretorio(path, target_size, batch_size, class_mode = 'categorical'):\n",
    "    datagen = ImageDataGenerator(rescale =1.0/255, validation_split=0.2)\n",
    "    generator = datagen.flow_from_directory(path,target_size=target_size,batch_size=batch_size,class_mode=class_mode,subset='training')\n",
    "    return generator\n",
    "\n",
    "diretorio_raiz = ''"
   ]
  }
 ],
 "metadata": {
  "kernelspec": {
   "display_name": "Python 3",
   "language": "python",
   "name": "python3"
  },
  "language_info": {
   "codemirror_mode": {
    "name": "ipython",
    "version": 3
   },
   "file_extension": ".py",
   "mimetype": "text/x-python",
   "name": "python",
   "nbconvert_exporter": "python",
   "pygments_lexer": "ipython3",
   "version": "3.11.5"
  },
  "orig_nbformat": 4
 },
 "nbformat": 4,
 "nbformat_minor": 2
}
